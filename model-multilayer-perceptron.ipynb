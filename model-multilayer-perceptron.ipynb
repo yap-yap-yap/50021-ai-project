{
 "cells": [
  {
   "cell_type": "code",
   "execution_count": 107,
   "id": "dc4c0875",
   "metadata": {},
   "outputs": [],
   "source": [
    "import sys\n",
    "import os\n",
    "import string\n",
    "import re\n",
    "from tqdm import tqdm \n",
    "\n",
    "import pandas as pd\n",
    "import numpy as np\n",
    "\n",
    "import nltk\n",
    "from nltk.corpus import stopwords\n",
    "from nltk.stem import WordNetLemmatizer\n",
    "from nltk.tokenize import RegexpTokenizer, regexp_tokenize, word_tokenize\n",
    "from sklearn.feature_extraction.text import CountVectorizer, TfidfTransformer\n",
    "\n",
    "import torch\n",
    "import torch.nn as nn\n",
    "import torch.optim as optim\n",
    "import torch.utils.data as data\n",
    "\n",
    "import matplotlib.pyplot as plt\n",
    "\n",
    "from utils import dataset, generate_test_splits, score\n",
    "\n"
   ]
  },
  {
   "cell_type": "code",
   "execution_count": 48,
   "id": "67dc6589",
   "metadata": {},
   "outputs": [
    {
     "name": "stdout",
     "output_type": "stream",
     "text": [
      "showing info https://raw.githubusercontent.com/nltk/nltk_data/gh-pages/index.xml\n"
     ]
    },
    {
     "data": {
      "text/plain": [
       "True"
      ]
     },
     "execution_count": 48,
     "metadata": {},
     "output_type": "execute_result"
    }
   ],
   "source": [
    "nltk.download()"
   ]
  },
  {
   "cell_type": "markdown",
   "id": "2476ccb6",
   "metadata": {},
   "source": [
    "### Using the included data importer"
   ]
  },
  {
   "cell_type": "code",
   "execution_count": 77,
   "id": "99c5090b",
   "metadata": {},
   "outputs": [
    {
     "name": "stdout",
     "output_type": "stream",
     "text": [
      "Reading dataset\n",
      "Total stances: 49972\n",
      "Total bodies: 1683\n",
      "Reading dataset\n",
      "Total stances: 25413\n",
      "Total bodies: 904\n"
     ]
    }
   ],
   "source": [
    "train_data = dataset.DataSet(name='train')\n",
    "test_data = dataset.DataSet(name=\"competition_test\") # there's no stances for the non-competition test data??  "
   ]
  },
  {
   "cell_type": "markdown",
   "id": "03c88b88",
   "metadata": {},
   "source": [
    "### Converting imported data into pandas dataframes"
   ]
  },
  {
   "cell_type": "code",
   "execution_count": 79,
   "id": "d2497417",
   "metadata": {},
   "outputs": [
    {
     "name": "stdout",
     "output_type": "stream",
     "text": [
      "Hundreds of Palestinians were evacuated from their homes Sunday morning after Israeli authorities opened a number of dams near the border, flooding the Gaza Valley in the wake of a recent severe winter storm.\n",
      "\n",
      "The Gaza Ministry of Interior said in a statement that civil defense services and teams from the Ministry of Public Works had evacuated more than 80 families from both sides of the Gaza Valley (Wadi Gaza) after their homes flooded as water levels reached more than three meters.\n",
      "\n",
      "Gaza has experienced flooding in recent days amid a major storm that saw temperatures drop and frigid rain pour down.\n",
      "\n",
      "The storm displaced dozens and caused hardship for tens of thousands, including many of the approximately 110,000 Palestinians left homeless by Israel's assault over summer.\n",
      "\n",
      "The suffering is compounded by the fact that Israel has maintained a complete siege over Gaza for the last eight years, severely limiting electricity and the availability of fuel for generators. It has also prevented the displaced from rebuilding their homes, as construction materials are largely banned from entering.\n",
      "\n",
      "Gaza civil defense services spokesman Muhammad al-Midana warned that further harm could be caused if Israel opens up more dams in the area, noting that water is currently flowing at a high speed from the Israel border through the valley and into the Mediterranean sea.\n",
      "\n",
      "Evacuated families have been sent to shelters sponsored by UNRWA, the UN agency for Palestinian refugees, in al-Bureij refugee camp and in al-Zahra neighborhood in the central Gaza Strip.\n",
      "\n",
      "The Gaza Valley (Wadi Gaza) is a wetland located in the central Gaza Strip between al-Nuseirat refugee camp and al-Moghraqa. It is called HaBesor in Hebrew, and it flows from two streams -- one whose source runs from near Beersheba, and the other from near Hebron.\n",
      "\n",
      "Israeli dams on the river to collect rainwater have dried up the wetlands inside Gaza, and destroyed the only source of surface water in the area.\n",
      "\n",
      "Locals have continued to use it to dispose of their waste for lack of other ways to do so, however, creating an environmental hazard.\n",
      "\n",
      "This is not the first time Israeli authorities have opened the Gaza Valley dams.\n",
      "\n",
      "In Dec. 2013, Israeli authorities also opened the dams amid heavy flooding in the Gaza Strip. The resulting floods damaged dozens of homes and forces many families in the area from their homes.\n",
      "\n",
      "In 2010, the dams were opened as well, forcing 100 families from their homes. At the time civil defense services said that they had managed to save seven people who had been at risk of drowning.\n",
      "\n",
      "'Hairgate': iPhone 6 users encounter latest Apple problem after 'bendgate'\n",
      "\n",
      "unrelated\n"
     ]
    }
   ],
   "source": [
    "train_data_articles_df = pd.DataFrame({'Article': train_data.articles.values(), 'Body ID':train_data.articles.keys()} , index=train_data.articles.keys())\n",
    "train_data_stances_df = pd.DataFrame(train_data.stances)\n",
    "\n",
    "test_data_articles_df = pd.DataFrame({'Article': test_data.articles.values(), 'Body ID':test_data.articles.keys()} , index=test_data.articles.keys())\n",
    "test_data_stances_df = pd.DataFrame(test_data.stances)\n",
    "\n",
    "# checking out example output\n",
    "print(train_data_articles_df['Article'][158] + '\\n')\n",
    "print(train_data_stances_df['Headline'][158] + '\\n')\n",
    "print(train_data_stances_df['Stance'][158])"
   ]
  },
  {
   "cell_type": "markdown",
   "id": "18d38444",
   "metadata": {},
   "source": [
    "### Preprocessing: Tokenize and remove stopwords. \n",
    "\n",
    "More done later during vectorization when the dictionary size is cut short\n",
    "\n",
    "probably more that can be done\n",
    "\n",
    "TODO: put this all into importable utility functions so it can be put into the GUI"
   ]
  },
  {
   "cell_type": "code",
   "execution_count": 80,
   "id": "ae78dca6",
   "metadata": {},
   "outputs": [],
   "source": [
    "tokenizer = RegexpTokenizer(r'\\b[^\\d\\W]+\\b') # regex can be improved but idk\n",
    "train_data_articles_df['article_cleaned'] = train_data_articles_df['Article'].apply(lambda x: tokenizer.tokenize(x.lower()))\n",
    "train_data_stances_df['headline_cleaned'] = train_data_stances_df['Headline'].apply(lambda x: tokenizer.tokenize(x.lower()))\n",
    "\n",
    "test_data_articles_df['article_cleaned'] = test_data_articles_df['Article'].apply(lambda x: tokenizer.tokenize(x.lower()))\n",
    "test_data_stances_df['headline_cleaned'] = test_data_stances_df['Headline'].apply(lambda x: tokenizer.tokenize(x.lower()))\n",
    "\n",
    "\n",
    "# remove_whitespace = r'\\s+'\n",
    "# train_data_articles_df['article_cleaned'] = train_data_articles_df['Article'].apply(lambda x: re.split(remove_whitespace, x))\n",
    "# train_data_stances_df['headline_cleaned'] = train_data_stances_df['Headline'].apply(lambda x: re.split(remove_whitespace, x))\n",
    "\n",
    "# exclude = r'[^/d/W]+'\n",
    "# train_data_articles_df['article_cleaned'] = train_data_articles_df['article_cleaned'].apply(lambda x: re.findall(exclude, x))\n",
    "# train_data_stances_df['headline_cleaned'] = train_data_stances_df['headline_cleaned'].apply(lambda x: re.findall(exclude, x))\n",
    "\n",
    "\n"
   ]
  },
  {
   "cell_type": "code",
   "execution_count": 81,
   "id": "7d3f605e",
   "metadata": {},
   "outputs": [
    {
     "name": "stdout",
     "output_type": "stream",
     "text": [
      "ISIS Video: America’s Air Dropped Weapons Now in Our Hands\n",
      "['isis', 'video', 'america', 's', 'air', 'dropped', 'weapons', 'now', 'in', 'our', 'hands']\n",
      "discuss\n"
     ]
    }
   ],
   "source": [
    "print(train_data_stances_df['Headline'][154])\n",
    "print(train_data_stances_df['headline_cleaned'][154])\n",
    "print(train_data_stances_df['Stance'][154])"
   ]
  },
  {
   "cell_type": "code",
   "execution_count": 82,
   "id": "8433fa51",
   "metadata": {},
   "outputs": [],
   "source": [
    "website_words = ['http', 'twitter', 'com', 'pic', 'co']\n",
    "month_words = ['january', 'february', 'march', 'april', 'may', 'june', 'july', 'august', 'september', 'october', 'novemeber', 'december']\n",
    "# TODO: think of more for these\n",
    "\n",
    "my_banned_words = stopwords.words('english') + website_words + month_words\n"
   ]
  },
  {
   "cell_type": "code",
   "execution_count": 83,
   "id": "6d1c666b",
   "metadata": {
    "scrolled": true
   },
   "outputs": [],
   "source": [
    "def remove_stopwords(string):\n",
    "    output = []\n",
    "    for word in string:\n",
    "        if word not in my_banned_words:\n",
    "            output.append(word)\n",
    "    return output\n",
    "\n",
    "train_data_articles_df['article_cleaned'] =  train_data_articles_df['article_cleaned'].apply(lambda x: remove_stopwords(x))\n",
    "train_data_stances_df['headline_cleaned'] =  train_data_stances_df['headline_cleaned'].apply(lambda x: remove_stopwords(x))\n",
    "\n",
    "test_data_articles_df['article_cleaned'] =  test_data_articles_df['article_cleaned'].apply(lambda x: remove_stopwords(x))\n",
    "test_data_stances_df['headline_cleaned'] =  test_data_stances_df['headline_cleaned'].apply(lambda x: remove_stopwords(x))"
   ]
  },
  {
   "cell_type": "code",
   "execution_count": 84,
   "id": "5771e9e9",
   "metadata": {},
   "outputs": [
    {
     "name": "stdout",
     "output_type": "stream",
     "text": [
      "['net', 'extra', 'back', 'dead', 'catholic', 'priest', 'claims', 'god', 'female']\n",
      "['net', 'extra', 'back', 'dead', 'catholic', 'priest', 'claim', 'god', 'female']\n"
     ]
    }
   ],
   "source": [
    "# lemmatization\n",
    "print(train_data_stances_df['headline_cleaned'][24])\n",
    "lemmatizer = WordNetLemmatizer()\n",
    "def lemmatize_tokens(string):\n",
    "    output = []\n",
    "    for word in string:\n",
    "        output.append(lemmatizer.lemmatize(word))\n",
    "    return output\n",
    "    \n",
    "train_data_articles_df['article_cleaned'] =  train_data_articles_df['article_cleaned'].apply(lambda x: lemmatize_tokens(x))\n",
    "train_data_stances_df['headline_cleaned'] =  train_data_stances_df['headline_cleaned'].apply(lambda x: lemmatize_tokens(x))\n",
    "\n",
    "test_data_articles_df['article_cleaned'] =  test_data_articles_df['article_cleaned'].apply(lambda x: lemmatize_tokens(x))\n",
    "test_data_stances_df['headline_cleaned'] =  test_data_stances_df['headline_cleaned'].apply(lambda x: lemmatize_tokens(x))\n",
    "\n",
    "print(train_data_stances_df['headline_cleaned'][24])\n"
   ]
  },
  {
   "cell_type": "code",
   "execution_count": 85,
   "id": "c828b2d9",
   "metadata": {
    "scrolled": true
   },
   "outputs": [
    {
     "name": "stdout",
     "output_type": "stream",
     "text": [
      "['thousand', 'people', 'duped', 'fake', 'news', 'story', 'claiming', 'nasa', 'forecast', 'total', 'blackout', 'earth', 'six', 'day', 'story', 'entitled', 'nasa', 'confirms', 'earth', 'experience', 'day', 'total', 'darkness', 'originated', 'huzlers', 'website', 'well', 'known', 'publishing', 'fake', 'story', 'sensational', 'headline', 'bogus', 'report', 'read', 'nasa', 'confirmed', 'earth', 'experience', 'day', 'almost', 'complete', 'darkness', 'happen', 'date', 'tuesday', 'monday', 'world', 'remain', 'three', 'day', 'without', 'sunlight', 'due', 'solar', 'storm', 'cause', 'dust', 'space', 'debris', 'become', 'plentiful', 'thus', 'block', 'sunlight', 'head', 'nasa', 'charles', 'bolden', 'made', 'announcement', 'asked', 'everyone', 'remain', 'calm', 'product', 'solar', 'storm', 'largest', 'last', 'year', 'period', 'hour', 'total', 'despite', 'six', 'day', 'darkness', 'soon', 'come', 'official', 'say', 'earth', 'experience', 'major', 'problem', 'since', 'six', 'day', 'darkness', 'nowhere', 'near', 'enough', 'cause', 'major', 'damage', 'anything', 'adding', 'article', 'also', 'carried', 'made', 'quote', 'nasa', 'scientist', 'earl', 'godoy', 'saying', 'solely', 'rely', 'artificial', 'light', 'six', 'day', 'problem', 'many', 'user', 'believed', 'fake', 'news', 'report', 'expressed', 'shock', 'going', 'complete', 'day', 'darkness', 'due', 'solar', 'storm', 'dec', 'nervous', 'ahhh', 'thepurge', 'janella', 'hijanellamarie', 'day', 'total', 'darkness', 'jammie', 'macaranas', 'jammiepeach', 'nasa', 'confirms', 'earth', 'experience', 'day', 'total', 'darkness', 'hiatus', 'tt', 'sarangbces', 'nasa', 'confirms', 'earth', 'experience', 'day', 'total', 'darkness', 'omg', '查理', 'chxrliecutie', 'islam', 'know', 'mean', 'im', 'scared', 'nasa', 'confirms', 'earth', 'experience', 'day', 'total', 'darkness', 'gqgeglmelz', 'hiatus', 'taobby', 'website', 'previously', 'published', 'fake', 'report', 'american', 'rapper', 'actor', 'tupac', 'shakur', 'claiming', 'alive', 'relatedhalloween', 'friday', 'first', 'time', 'year', 'declared', 'hoaxshah', 'rukh', 'khan', 'son', 'aryan', 'aishwarya', 'rai', 'bachchan', 'niece', 'navya', 'leaked', 'sex', 'tape', 'fakeebola', 'zombie', 'victim', 'rising', 'dead', 'fake', 'news', 'story', 'go', 'viral', 'spark', 'outrage', 'social', 'mediaeminem', 'quits', 'music', 'checking', 'rehab', 'heroin', 'addiction', 'hoax', 'satirical', 'article', 'creates', 'stir', 'social', 'medium']\n"
     ]
    }
   ],
   "source": [
    "print(train_data_articles_df['article_cleaned'][154])\n"
   ]
  },
  {
   "cell_type": "code",
   "execution_count": 86,
   "id": "c1b80325",
   "metadata": {},
   "outputs": [],
   "source": [
    "if not os.path.exists('processed'):\n",
    "    os.mkdir('processed')\n",
    "\n",
    "train_data_articles_df.to_csv(\"processed/processed_train_articles.csv\")\n",
    "train_data_stances_df.to_csv(\"processed/processed_train_stances.csv\")"
   ]
  },
  {
   "cell_type": "markdown",
   "id": "02f7976c",
   "metadata": {},
   "source": [
    "\n",
    " ### Strategy: concatenate headline with article, encode as tfidf score\n",
    " \n",
    "TODO: more to try: only tf, tf of headline and article + tfidf cosine similarity (ranked 3rd group's strat), process headline and article separately (can then run an algorithm separately on each part, then concat and run fully connected) (need to generate dictionary for this one) "
   ]
  },
  {
   "cell_type": "code",
   "execution_count": 87,
   "id": "8be437a1",
   "metadata": {},
   "outputs": [
    {
     "name": "stdout",
     "output_type": "stream",
     "text": [
      "[ 0  4  5  6  7  8  9 10 11 13]\n",
      "[2102 1120 2414   75  298  720 1340  931 2448 2032]\n"
     ]
    }
   ],
   "source": [
    "stance_to_number = {\n",
    "    \"agree\": 0,\n",
    "    \"disagree\": 1,\n",
    "    \"discuss\": 2,\n",
    "    \"unrelated\": 3\n",
    "}\n",
    "\n",
    "        \n",
    "def concat_data(articles_df, headlines_df, body_ids):\n",
    "    features = []\n",
    "    labels = []\n",
    "    \n",
    "    for body_id in body_ids:\n",
    "        article = articles_df[articles_df['Body ID'] == body_id]['article_cleaned'].values[0]\n",
    "    #     print(article)\n",
    "        headlines = headlines_df[headlines_df['Body ID'] == body_id]['headline_cleaned'].values\n",
    "    #     print(headlines)\n",
    "        stances = headlines_df[headlines_df['Body ID'] == body_id]['Stance'].values\n",
    "    #     print(stances)\n",
    "        for headline, stance in zip(headlines, stances):\n",
    "            features.append(headline+article)\n",
    "#             label_idx = stance_to_number[stance]\n",
    "#             label = [0.0, 0.0, 0.0, 0.0] # one hot encoding for labels\n",
    "#             label[label_idx] = 1.0\n",
    "#             labels.append(label)\n",
    "            labels.append(stance_to_number[stance])\n",
    "    return features, labels\n",
    "\n",
    "body_ids = train_data_articles_df['Body ID'].copy().values\n",
    "print(body_ids[0:10])\n",
    "np.random.seed(42) # set your seed\n",
    "np.random.shuffle(body_ids) # randomise it here and then do the train/val split later directly. If randomised later then validation and training set each will draw from their own datasets\n",
    "print(body_ids[0:10])\n",
    "features, labels = concat_data(train_data_articles_df, train_data_stances_df, body_ids) # article, headline and stances are retrieved at the same time so splitting later is fine\n",
    "\n",
    "# TODO: split train/val evenly between each type of stance?\n",
    "\n",
    "test_body_ids = test_data_articles_df['Body ID'].copy().values\n",
    "# don't randomise test set\n",
    "test_features, test_labels = concat_data(test_data_articles_df, test_data_stances_df, test_body_ids)"
   ]
  },
  {
   "cell_type": "code",
   "execution_count": 88,
   "id": "7763744f",
   "metadata": {},
   "outputs": [
    {
     "name": "stdout",
     "output_type": "stream",
     "text": [
      "['unconfirmed', 'report', 'saying', 'isi', 'uk', 'hostage', 'david', 'haines', 'beheaded', 'uk', 'confirmed', 'video', 'showing', 'beheading', 'aid', 'worker', 'david', 'haines']\n",
      "2\n"
     ]
    }
   ],
   "source": [
    "print(features[0])\n",
    "print(labels[0])"
   ]
  },
  {
   "cell_type": "code",
   "execution_count": 89,
   "id": "f65430d7",
   "metadata": {},
   "outputs": [
    {
     "name": "stdout",
     "output_type": "stream",
     "text": [
      "(49972, 5000)\n",
      "(25413, 5000)\n"
     ]
    }
   ],
   "source": [
    "# dummy preprocessor and tokenizer because already did that above. not going to change it up to fit this format\n",
    "num_features = 5000\n",
    "\n",
    "def dummy(doc):\n",
    "    return doc\n",
    "vectorizer = CountVectorizer(preprocessor=dummy, tokenizer=dummy, max_features=num_features) # try messing with min_df param: can remove twitter handles and such\n",
    "features_counts = vectorizer.fit_transform(features)\n",
    "\n",
    "test_features_counts = vectorizer.fit_transform(test_features)\n",
    "\n",
    "print(features_counts.shape)\n",
    "print(test_features_counts.shape)"
   ]
  },
  {
   "cell_type": "code",
   "execution_count": 90,
   "id": "804149ff",
   "metadata": {},
   "outputs": [
    {
     "name": "stdout",
     "output_type": "stream",
     "text": [
      "['aaaasf' 'abandon' 'abandoned' 'abandoning' 'abbas' 'abc' 'abdo'\n",
      " 'abdomen' 'abducted' 'abduction' 'abdul' 'abdullah' 'ability' 'able'\n",
      " 'aboard' 'absolutely' 'abu' 'aburisha' 'abuse' 'accent' 'accept'\n",
      " 'acceptance' 'accepted' 'access' 'accessory' 'accident' 'accidentally'\n",
      " 'accommodate' 'accord' 'accordance' 'according' 'account' 'accounting'\n",
      " 'accreditation' 'accurate' 'accurately' 'accusation' 'accused' 'accusing'\n",
      " 'acid' 'acknowledge' 'acquihire' 'acquire' 'acquired' 'acquiring'\n",
      " 'acquisition' 'acre' 'acronym' 'across' 'act']\n",
      "(array([], dtype=int64),)\n"
     ]
    }
   ],
   "source": [
    "# more preprocessing: dropping very common non-stopword words and very uncommon words\n",
    "# features_counts_flip = np.flip(features_counts)\n",
    "# features_counts_df = pd.DataFrame(features_counts_flip, columns=vectorizer.get_feature_names_out())\n",
    "# print(features_counts_df.head)\n",
    "\n",
    "print(vectorizer.get_feature_names_out()[0:50])\n",
    "print(np.where(vectorizer.get_feature_names_out() == \"relatedhalloween\"))"
   ]
  },
  {
   "cell_type": "code",
   "execution_count": 91,
   "id": "b8190dbd",
   "metadata": {},
   "outputs": [],
   "source": [
    "# NOW do the train val split. \n",
    "# Vectorise and get bag of words for both train + val first so that the features are the same length\n",
    "# can also instead generate a dictionary beforehand to pass into the vectorizer\n",
    "\n",
    "train_percentage = 0.8\n",
    "num_samples = features_counts.shape[0]\n",
    "split_index = int(train_percentage*num_samples)\n",
    "train_features_counts = features_counts[:split_index]\n",
    "val_features_counts = features_counts[split_index:]\n",
    "train_labels = labels[:split_index]\n",
    "val_labels = labels[split_index:]"
   ]
  },
  {
   "cell_type": "code",
   "execution_count": 92,
   "id": "5634b676",
   "metadata": {},
   "outputs": [
    {
     "name": "stdout",
     "output_type": "stream",
     "text": [
      "(39977, 5000)\n"
     ]
    }
   ],
   "source": [
    "tfidf_transformer = TfidfTransformer()\n",
    "train_features_tfidf = tfidf_transformer.fit_transform(train_features_counts)\n",
    "val_features_tfidf = tfidf_transformer.fit_transform(val_features_counts)\n",
    "\n",
    "test_features_tfidf = tfidf_transformer.fit_transform(test_features_counts)\n",
    "\n",
    "print(train_features_tfidf.shape)"
   ]
  },
  {
   "cell_type": "code",
   "execution_count": 93,
   "id": "cf786c82",
   "metadata": {},
   "outputs": [],
   "source": [
    "# saving the vectors\n",
    "# train_features_tfidf_nparray = train_features_tfidf.toarray()\n",
    "# test_features_tfidf_nparray = test_features_tfidf.toarray()\n",
    "\n",
    "# np.savetxt(\"processed/vector_train_features_tdidf.txt\", train_features_tfidf_nparray)\n",
    "# np.savetxt(\"processed/vector_test_features_tdidf.txt\", test_features_tfidf_nparray)\n",
    "# >22GB\n",
    "\n",
    "# the file size is so big for the vectorized array \n",
    "# i think it's better to save the data as just list of sentences and load them, \n",
    "# then do the vectorization\n"
   ]
  },
  {
   "cell_type": "code",
   "execution_count": 94,
   "id": "cd308499",
   "metadata": {},
   "outputs": [
    {
     "name": "stdout",
     "output_type": "stream",
     "text": [
      "(1, 5000)\n"
     ]
    }
   ],
   "source": [
    "print(train_features_tfidf[0].toarray().shape)"
   ]
  },
  {
   "cell_type": "code",
   "execution_count": 95,
   "id": "5c40926c",
   "metadata": {},
   "outputs": [],
   "source": [
    "class MultiLayerPerceptron(nn.Module):\n",
    "    def __init__(self, in_dim, out_dim):\n",
    "        super().__init__()\n",
    "        self.fc1 = nn.Linear(in_features=in_dim, out_features=2500) # TODO: mess with the hidden layer sizes\n",
    "        self.fc2 = nn.Linear(in_features=2500, out_features=1000)\n",
    "        self.fc3 = nn.Linear(in_features=1000, out_features=100)\n",
    "        self.fc4 = nn.Linear(in_features=100, out_features=out_dim)\n",
    "        \n",
    "    \n",
    "    def forward(self, x):\n",
    "        x = self.fc1(x)\n",
    "        x = nn.functional.relu(x)\n",
    "        \n",
    "        x = self.fc2(x)\n",
    "        x = nn.functional.relu(x)\n",
    "        \n",
    "        x = self.fc3(x)\n",
    "        x = nn.functional.relu(x)\n",
    "        \n",
    "        x = self.fc4(x)\n",
    "        \n",
    "        return x\n",
    "    "
   ]
  },
  {
   "cell_type": "code",
   "execution_count": 96,
   "id": "c6941800",
   "metadata": {},
   "outputs": [],
   "source": [
    "input_dimensions = num_features\n",
    "out_dimensions = 4\n",
    "\n",
    "model = MultiLayerPerceptron(input_dimensions, out_dimensions)"
   ]
  },
  {
   "cell_type": "code",
   "execution_count": 97,
   "id": "58fa15eb",
   "metadata": {},
   "outputs": [],
   "source": [
    "learning_rate = 1e-3\n",
    "optimizer = optim.Adam(model.parameters(), learning_rate)\n",
    "criterion = nn.CrossEntropyLoss()"
   ]
  },
  {
   "cell_type": "code",
   "execution_count": 98,
   "id": "c0779b1a",
   "metadata": {},
   "outputs": [
    {
     "name": "stdout",
     "output_type": "stream",
     "text": [
      "cuda\n"
     ]
    }
   ],
   "source": [
    "device = torch.device('cuda' if torch.cuda.is_available() else 'cpu')\n",
    "print(device)\n",
    "\n",
    "model = model.to(device)\n",
    "criterion = criterion.to(device)"
   ]
  },
  {
   "cell_type": "code",
   "execution_count": 103,
   "id": "c73930a8",
   "metadata": {},
   "outputs": [
    {
     "name": "stdout",
     "output_type": "stream",
     "text": [
      "1250\n"
     ]
    }
   ],
   "source": [
    "# for batches \n",
    "batch_size = 32\n",
    "\n",
    "train_features_tfidf_array = train_features_tfidf.toarray()\n",
    "val_features_tfidf_array = val_features_tfidf.toarray()\n",
    "test_features_tfidf_array = test_features_tfidf.toarray()\n",
    "\n",
    "\n",
    "train_iterator = data.DataLoader([[train_features_tfidf_array[i], train_labels[i]] for i in range(len(train_labels))],\n",
    "                                 shuffle=True,\n",
    "                                 batch_size=batch_size,\n",
    "                                 num_workers=2)\n",
    "\n",
    "val_iterator = data.DataLoader([[val_features_tfidf_array[i], val_labels[i]] for i in range(len(val_labels))],\n",
    "                                 shuffle=True,\n",
    "                                 batch_size=batch_size,\n",
    "                                 num_workers=2)\n",
    "test_iterator = data.DataLoader([[test_features_tfidf_array[i], test_labels[i]] for i in range(len(test_labels))],\n",
    "                                 shuffle=False,\n",
    "                                 batch_size=batch_size,\n",
    "                                 num_workers=2)\n",
    "\n",
    "train_iterator_size = len(train_iterator)\n",
    "val_iterator_size = len(val_iterator)\n",
    "print(train_iterator_size)"
   ]
  },
  {
   "cell_type": "code",
   "execution_count": 100,
   "id": "57c89d68",
   "metadata": {},
   "outputs": [],
   "source": [
    "def calculate_accuracy(y, label):\n",
    "    top_pred = y.argmax(1, keepdim=True)\n",
    "    correct = top_pred.eq(label.view_as(top_pred)).sum()\n",
    "    acc = correct.float() / label.shape[0]\n",
    "    return acc"
   ]
  },
  {
   "cell_type": "code",
   "execution_count": 101,
   "id": "d9433456",
   "metadata": {},
   "outputs": [
    {
     "name": "stderr",
     "output_type": "stream",
     "text": [
      "                                                                                                                       \r"
     ]
    },
    {
     "name": "stdout",
     "output_type": "stream",
     "text": [
      "epoch 1:\n",
      "train loss = 0.589; train acc = 78.324%\n",
      "val loss = 0.848; val acc = 65.848%\n"
     ]
    },
    {
     "name": "stderr",
     "output_type": "stream",
     "text": [
      "                                                                                                                       \r"
     ]
    },
    {
     "name": "stdout",
     "output_type": "stream",
     "text": [
      "epoch 2:\n",
      "train loss = 0.436; train acc = 83.716%\n",
      "val loss = 0.937; val acc = 63.122%\n"
     ]
    },
    {
     "name": "stderr",
     "output_type": "stream",
     "text": [
      "                                                                                                                       \r"
     ]
    },
    {
     "name": "stdout",
     "output_type": "stream",
     "text": [
      "epoch 3:\n",
      "train loss = 0.343; train acc = 87.001%\n",
      "val loss = 0.978; val acc = 66.728%\n"
     ]
    },
    {
     "name": "stderr",
     "output_type": "stream",
     "text": [
      "                                                                                                                       \r"
     ]
    },
    {
     "name": "stdout",
     "output_type": "stream",
     "text": [
      "epoch 4:\n",
      "train loss = 0.261; train acc = 89.979%\n",
      "val loss = 0.894; val acc = 69.050%\n"
     ]
    },
    {
     "name": "stderr",
     "output_type": "stream",
     "text": [
      "                                                                                                                       "
     ]
    },
    {
     "name": "stdout",
     "output_type": "stream",
     "text": [
      "epoch 5:\n",
      "train loss = 0.215; train acc = 91.437%\n",
      "val loss = 0.931; val acc = 69.720%\n"
     ]
    },
    {
     "name": "stderr",
     "output_type": "stream",
     "text": [
      "\r"
     ]
    }
   ],
   "source": [
    "epochs = 5\n",
    "overall_train_loss = []\n",
    "overall_val_loss = []\n",
    "overall_train_acc = []\n",
    "overall_val_acc = []\n",
    "\n",
    "for epoch in range(epochs):\n",
    "    train_loss = 0\n",
    "    train_acc = 0\n",
    "    for x, label in tqdm(train_iterator, desc=f\"Epoch {epoch+1} training\", leave=False):        \n",
    "        x = x.to(device)\n",
    "        label = label.to(device)\n",
    "        \n",
    "        x = x.float() \n",
    "        label = label.long()\n",
    "        \n",
    "        optimizer.zero_grad()\n",
    "        y = model(x)\n",
    "\n",
    "        loss = criterion(y, label)\n",
    "        acc = calculate_accuracy(y, label)\n",
    "        \n",
    "        loss.backward()\n",
    "        optimizer.step()\n",
    "        \n",
    "        train_loss += loss.item()\n",
    "        train_acc += acc.item()\n",
    "        \n",
    "    train_loss /= train_iterator_size\n",
    "    train_acc /= train_iterator_size\n",
    "    \n",
    "    overall_train_loss.append(train_loss)\n",
    "    overall_train_acc.append(train_acc)\n",
    "    \n",
    "    val_loss = 0\n",
    "    val_acc = 0\n",
    "    with torch.no_grad():\n",
    "        for x, label in tqdm(val_iterator, desc=f\"Epoch {epoch+1} validating\", leave=False):\n",
    "            x = x.to(device)\n",
    "            label = label.to(device)\n",
    "            \n",
    "            x = x.float() \n",
    "            label = label.long()\n",
    "\n",
    "            y = model(x)\n",
    "\n",
    "            loss = criterion(y, label)\n",
    "            acc = calculate_accuracy(y, label)\n",
    "\n",
    "            val_loss += loss.item()\n",
    "            val_acc += acc.item()\n",
    "            \n",
    "    val_loss /= val_iterator_size\n",
    "    val_acc /= val_iterator_size\n",
    "    \n",
    "    overall_val_loss.append(val_loss)\n",
    "    overall_val_acc.append(val_acc)\n",
    "    \n",
    "    print(f\"epoch {epoch+1}:\")\n",
    "    print(f\"train loss = {train_loss:.3f}; train acc = {train_acc*100:.3f}%\")\n",
    "    print(f\"val loss = {val_loss:.3f}; val acc = {val_acc*100:.3f}%\")"
   ]
  },
  {
   "cell_type": "code",
   "execution_count": 104,
   "id": "21fc72bc",
   "metadata": {},
   "outputs": [],
   "source": [
    "def plot_loss_acc (train_loss, val_loss, train_acc, val_acc):\n",
    "  fig, ax = plt.subplots(1,2)\n",
    "  \n",
    "  ax[0].set_title(\"Loss\")\n",
    "  ax[0].plot(train_loss, label=\"Training\")\n",
    "  ax[0].plot(val_loss, label=\"Validation\")\n",
    "  ax[0].legend()\n",
    "\n",
    "\n",
    "  \n",
    "  ax[1].set_title(\"Accuracy\")\n",
    "  ax[1].plot(train_acc, label=\"Training\")\n",
    "  ax[1].plot(val_acc, label=\"Validation\")\n",
    "  ax[1].legend()\n",
    "\n",
    "\n",
    "\n",
    "  return"
   ]
  },
  {
   "cell_type": "code",
   "execution_count": 105,
   "id": "22ead512",
   "metadata": {},
   "outputs": [
    {
     "data": {
      "image/png": "[encoded data removed]",
      "text/plain": [
       "<Figure size 432x288 with 2 Axes>"
      ]
     },
     "metadata": {
      "needs_background": "light"
     },
     "output_type": "display_data"
    }
   ],
   "source": [
    "plot_loss_acc(overall_train_loss, overall_val_loss, overall_train_acc, overall_val_acc)"
   ]
  },
  {
   "cell_type": "code",
   "execution_count": 112,
   "id": "8e6fc661",
   "metadata": {},
   "outputs": [
    {
     "name": "stderr",
     "output_type": "stream",
     "text": [
      "                                                                                                                       \r"
     ]
    }
   ],
   "source": [
    "test_labels_predicted = []\n",
    "with torch.no_grad():\n",
    "    for x, label in tqdm(test_iterator, desc=f\"testing\", leave=False):\n",
    "        x = x.to(device)\n",
    "        label = label.to(device)\n",
    "\n",
    "        x = x.float() \n",
    "        label = label.long()\n",
    "\n",
    "        y = model(x)\n",
    "        \n",
    "        test_labels_predicted.append(y)\n",
    "\n"
   ]
  },
  {
   "cell_type": "code",
   "execution_count": 114,
   "id": "ea0116dd",
   "metadata": {},
   "outputs": [],
   "source": [
    "number_to_stance = {\n",
    "    0: \"agree\",\n",
    "    1: \"disagree\",\n",
    "    2: \"discuss\",\n",
    "    3: \"unrelated\"\n",
    "}\n",
    "test_stances = []\n",
    "\n",
    "for label in test_labels:\n",
    "    test_stances.append(number_to_stance[int(label)])\n"
   ]
  },
  {
   "cell_type": "code",
   "execution_count": 127,
   "id": "f292adf7",
   "metadata": {},
   "outputs": [
    {
     "name": "stdout",
     "output_type": "stream",
     "text": [
      "torch.Size([32, 4])\n"
     ]
    }
   ],
   "source": [
    "test_stances_pred = []\n",
    "print(test_labels_predicted[0].shape)\n",
    "for i in test_labels_predicted:\n",
    "    for j in i:\n",
    "        top_pred = j.argmax(0, keepdim=True)\n",
    "        test_stances_pred.append(number_to_stance[top_pred.item()])\n",
    "        "
   ]
  },
  {
   "cell_type": "code",
   "execution_count": 128,
   "id": "4e947314",
   "metadata": {},
   "outputs": [
    {
     "name": "stdout",
     "output_type": "stream",
     "text": [
      "True\n"
     ]
    }
   ],
   "source": [
    "print(len(test_stances_pred) == len(test_stances))"
   ]
  },
  {
   "cell_type": "code",
   "execution_count": 129,
   "id": "16be602d",
   "metadata": {},
   "outputs": [
    {
     "name": "stdout",
     "output_type": "stream",
     "text": [
      "-------------------------------------------------------------\n",
      "|           |   agree   | disagree  |  discuss  | unrelated |\n",
      "-------------------------------------------------------------\n",
      "|   agree   |    85     |     0     |    31     |   1787    |\n",
      "-------------------------------------------------------------\n",
      "| disagree  |    37     |     0     |    48     |    612    |\n",
      "-------------------------------------------------------------\n",
      "|  discuss  |    189    |     4     |    146    |   4125    |\n",
      "-------------------------------------------------------------\n",
      "| unrelated |    607    |     7     |    543    |   17192   |\n",
      "-------------------------------------------------------------\n",
      "Score: 4606.25 out of 11651.25\t(39.534384722669245%)\n"
     ]
    },
    {
     "data": {
      "text/plain": [
       "39.534384722669245"
      ]
     },
     "execution_count": 129,
     "metadata": {},
     "output_type": "execute_result"
    }
   ],
   "source": [
    "score.report_score(test_stances, test_stances_pred)"
   ]
  },
  {
   "cell_type": "code",
   "execution_count": null,
   "id": "674d12fb",
   "metadata": {},
   "outputs": [],
   "source": []
  }
 ],
 "metadata": {
  "kernelspec": {
   "display_name": "gpu-1",
   "language": "python",
   "name": "gpu-1"
  },
  "language_info": {
   "codemirror_mode": {
    "name": "ipython",
    "version": 3
   },
   "file_extension": ".py",
   "mimetype": "text/x-python",
   "name": "python",
   "nbconvert_exporter": "python",
   "pygments_lexer": "ipython3",
   "version": "3.9.12"
  }
 },
 "nbformat": 4,
 "nbformat_minor": 5
}
