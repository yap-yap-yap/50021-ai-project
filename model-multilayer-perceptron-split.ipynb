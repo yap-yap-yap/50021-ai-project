{
 "cells": [
  {
   "cell_type": "markdown",
   "id": "b3409943",
   "metadata": {},
   "source": [
    "# Doing vectorization of headline and article separately in this notebook"
   ]
  },
  {
   "cell_type": "code",
   "execution_count": 1,
   "id": "dc4c0875",
   "metadata": {},
   "outputs": [],
   "source": [
    "import sys\n",
    "import os\n",
    "import string\n",
    "import re\n",
    "from tqdm import tqdm \n",
    "from collections import Counter\n",
    "\n",
    "import pandas as pd\n",
    "import numpy as np\n",
    "\n",
    "import nltk\n",
    "from nltk.corpus import stopwords\n",
    "from nltk.stem import WordNetLemmatizer\n",
    "from nltk.tokenize import RegexpTokenizer, regexp_tokenize, word_tokenize\n",
    "from sklearn.feature_extraction.text import CountVectorizer, TfidfTransformer\n",
    "from sklearn.metrics.pairwise import cosine_similarity\n",
    "\n",
    "import torch\n",
    "import torch.nn as nn\n",
    "import torch.optim as optim\n",
    "import torch.utils.data as data\n",
    "\n",
    "import matplotlib.pyplot as plt\n",
    "\n",
    "from utils import dataset, generate_test_splits, score\n",
    "\n"
   ]
  },
  {
   "cell_type": "code",
   "execution_count": null,
   "id": "67dc6589",
   "metadata": {},
   "outputs": [],
   "source": [
    "nltk.download()"
   ]
  },
  {
   "cell_type": "markdown",
   "id": "2476ccb6",
   "metadata": {},
   "source": [
    "### Using the included data importer"
   ]
  },
  {
   "cell_type": "code",
   "execution_count": 2,
   "id": "99c5090b",
   "metadata": {},
   "outputs": [
    {
     "name": "stdout",
     "output_type": "stream",
     "text": [
      "Reading dataset\n",
      "Total stances: 49972\n",
      "Total bodies: 1683\n",
      "Reading dataset\n",
      "Total stances: 25413\n",
      "Total bodies: 904\n"
     ]
    }
   ],
   "source": [
    "train_data = dataset.DataSet(name='train')\n",
    "test_data = dataset.DataSet(name=\"competition_test\") # there's no stances for the non-competition test data??  "
   ]
  },
  {
   "cell_type": "markdown",
   "id": "03c88b88",
   "metadata": {},
   "source": [
    "### Converting imported data into pandas dataframes"
   ]
  },
  {
   "cell_type": "code",
   "execution_count": 3,
   "id": "d2497417",
   "metadata": {},
   "outputs": [
    {
     "name": "stdout",
     "output_type": "stream",
     "text": [
      "Thousands of people have been duped by a fake news story claiming that Nasa has forecast a total blackout of earth for six days in December.\n",
      "\n",
      "The story, entitled \"Nasa Confirms Earth Will Experience 6 Days of Total Darkness in December 2014!\" originated from Huzlers.com, a website well known for publishing fake stories with sensational headlines.\n",
      "\n",
      "The bogus report read: \"Nasa has confirmed that the Earth will experience 6 days of almost complete darkness and will happen from the dates Tuesday the 16 – Monday the 22 in December. The world will remain, during these three days, without sunlight due to a solar storm, which will cause dust and space debris to become plentiful and thus, block 90% sunlight.\n",
      "\n",
      "\"The head of Nasa Charles Bolden who made the announcement and asked everyone to remain calm. This will be the product of a solar storm, the largest in the last 250 years for a period of 216 hours total.\n",
      "\n",
      "\"Despite the six days of darkness soon to come, officials say that the earth will not experience any major problems, since six days of darkness is nowhere near enough to cause major damage to anything.\"\n",
      "\n",
      "Adding on, the article also carried a made-up quote from Nasa scientist Earl Godoy, saying: \"We will solely rely on artificial light for the six days, which is not a problem at all.\"\n",
      "\n",
      "Many Twitter users believed the fake news report, and expressed their shock.\n",
      "\n",
      "We're going to have a complete 6 days of darkness due to a solar storm in Dec! SO NERVOUS ABOUT THIS! Ahhh. #ThePurge http://t.co/0L2Sis54hv— Janella (@hijanellamarie) October 26, 2014 6 days of total darkness in December? ? http://t.co/eTN60TnXft— Jammie Macaranas (@JammiePeach) October 26, 2014 \"NASA Confirms Earth will experience 6 Days of total DARKNESS in December 2014.\" Me: pic.twitter.com/xZG1xaxqdw— [Hiatus] TT (@sarangBCES) October 26, 2014 \"NASA Confirms Earth Will Experience 6 Days of Total Darkness in December 2014!\" omg what?— 查理 (@Chxrliecutie) October 26, 2014 islam know what this means im scared \"NASA Confirms Earth Will Experience 6 Days of Total Darkness in December 2014! http://t.co/GQGeGLmElZ\"— hiatus (@taobby) October 26, 2014\n",
      "\n",
      "The website has previously published a fake report about American rapper and actor Tupac Shakur, claiming that he is alive.\n",
      "\n",
      "RelatedHalloween 2014 on Friday the 13th for First Time in 666 Years Declared a HoaxShah Rukh Khan's Son Aryan and Aishwarya Rai Bachchan's Niece Navya's Leaked Sex Tape is FakeEbola Zombies: Victims 'Rising from the Dead' Fake News Story Goes Viral, Sparks Outrage on Social MediaEminem 'Quits Music After Checking Into Rehab Again For Heroin Addiction' is Hoax: Satirical Article Creates Stir on Social Media\n",
      "\n",
      "'Hairgate': iPhone 6 users encounter latest Apple problem after 'bendgate'\n",
      "\n",
      "unrelated\n"
     ]
    }
   ],
   "source": [
    "train_data_articles_df = pd.DataFrame({'Article': train_data.articles.values(), 'Body ID':train_data.articles.keys()} , index=train_data.articles.keys())\n",
    "train_data_stances_df = pd.DataFrame(train_data.stances)\n",
    "\n",
    "test_data_articles_df = pd.DataFrame({'Article': test_data.articles.values(), 'Body ID':test_data.articles.keys()} , index=test_data.articles.keys())\n",
    "test_data_stances_df = pd.DataFrame(test_data.stances)\n",
    "\n",
    "# checking out example output\n",
    "print(train_data_articles_df['Article'][154] + '\\n')\n",
    "print(train_data_stances_df['Headline'][158] + '\\n')\n",
    "print(train_data_stances_df['Stance'][158])"
   ]
  },
  {
   "cell_type": "markdown",
   "id": "18d38444",
   "metadata": {},
   "source": [
    "### Preprocessing: Tokenize and remove stopwords. \n",
    "\n",
    "More done later during vectorization when the dictionary size is cut short\n",
    "\n",
    "probably more that can be done\n",
    "\n",
    "TODO: put this all into importable utility functions so it can be put into the GUI"
   ]
  },
  {
   "cell_type": "code",
   "execution_count": 4,
   "id": "ae78dca6",
   "metadata": {},
   "outputs": [],
   "source": [
    "tokenizer = RegexpTokenizer(r'\\b[^\\d\\W]+\\b') # regex can be improved but idk\n",
    "train_data_articles_df['article_cleaned'] = train_data_articles_df['Article'].apply(lambda x: tokenizer.tokenize(x.lower()))\n",
    "train_data_stances_df['headline_cleaned'] = train_data_stances_df['Headline'].apply(lambda x: tokenizer.tokenize(x.lower()))\n",
    "\n",
    "test_data_articles_df['article_cleaned'] = test_data_articles_df['Article'].apply(lambda x: tokenizer.tokenize(x.lower()))\n",
    "test_data_stances_df['headline_cleaned'] = test_data_stances_df['Headline'].apply(lambda x: tokenizer.tokenize(x.lower()))\n",
    "\n",
    "\n",
    "# remove_whitespace = r'\\s+'\n",
    "# train_data_articles_df['article_cleaned'] = train_data_articles_df['Article'].apply(lambda x: re.split(remove_whitespace, x))\n",
    "# train_data_stances_df['headline_cleaned'] = train_data_stances_df['Headline'].apply(lambda x: re.split(remove_whitespace, x))\n",
    "\n",
    "# exclude = r'[^/d/W]+'\n",
    "# train_data_articles_df['article_cleaned'] = train_data_articles_df['article_cleaned'].apply(lambda x: re.findall(exclude, x))\n",
    "# train_data_stances_df['headline_cleaned'] = train_data_stances_df['headline_cleaned'].apply(lambda x: re.findall(exclude, x))\n",
    "\n",
    "\n"
   ]
  },
  {
   "cell_type": "code",
   "execution_count": 5,
   "id": "7d3f605e",
   "metadata": {},
   "outputs": [
    {
     "name": "stdout",
     "output_type": "stream",
     "text": [
      "ISIS Video: America’s Air Dropped Weapons Now in Our Hands\n",
      "['isis', 'video', 'america', 's', 'air', 'dropped', 'weapons', 'now', 'in', 'our', 'hands']\n",
      "discuss\n"
     ]
    }
   ],
   "source": [
    "print(train_data_stances_df['Headline'][154])\n",
    "print(train_data_stances_df['headline_cleaned'][154])\n",
    "print(train_data_stances_df['Stance'][154])"
   ]
  },
  {
   "cell_type": "code",
   "execution_count": 6,
   "id": "8433fa51",
   "metadata": {},
   "outputs": [],
   "source": [
    "website_words = ['http', 'twitter', 'com', 'pic', 'co']\n",
    "month_words = ['january', 'february', 'march', 'april', 'may', 'june', 'july', 'august', 'september', 'october', 'novemeber', 'december']\n",
    "# TODO: think of more for these\n",
    "\n",
    "my_banned_words = stopwords.words('english') + website_words + month_words\n"
   ]
  },
  {
   "cell_type": "code",
   "execution_count": 7,
   "id": "6d1c666b",
   "metadata": {
    "scrolled": true
   },
   "outputs": [],
   "source": [
    "def remove_stopwords(string):\n",
    "    output = []\n",
    "    for word in string:\n",
    "        if word not in my_banned_words:\n",
    "            output.append(word)\n",
    "    return output\n",
    "\n",
    "train_data_articles_df['article_cleaned'] =  train_data_articles_df['article_cleaned'].apply(lambda x: remove_stopwords(x))\n",
    "train_data_stances_df['headline_cleaned'] =  train_data_stances_df['headline_cleaned'].apply(lambda x: remove_stopwords(x))\n",
    "\n",
    "test_data_articles_df['article_cleaned'] =  test_data_articles_df['article_cleaned'].apply(lambda x: remove_stopwords(x))\n",
    "test_data_stances_df['headline_cleaned'] =  test_data_stances_df['headline_cleaned'].apply(lambda x: remove_stopwords(x))"
   ]
  },
  {
   "cell_type": "code",
   "execution_count": 8,
   "id": "5771e9e9",
   "metadata": {},
   "outputs": [
    {
     "name": "stdout",
     "output_type": "stream",
     "text": [
      "['net', 'extra', 'back', 'dead', 'catholic', 'priest', 'claims', 'god', 'female']\n",
      "['net', 'extra', 'back', 'dead', 'catholic', 'priest', 'claim', 'god', 'female']\n"
     ]
    }
   ],
   "source": [
    "# lemmatization\n",
    "print(train_data_stances_df['headline_cleaned'][24])\n",
    "lemmatizer = WordNetLemmatizer()\n",
    "def lemmatize_tokens(string):\n",
    "    output = []\n",
    "    for word in string:\n",
    "        output.append(lemmatizer.lemmatize(word))\n",
    "    return output\n",
    "    \n",
    "train_data_articles_df['article_cleaned'] =  train_data_articles_df['article_cleaned'].apply(lambda x: lemmatize_tokens(x))\n",
    "train_data_stances_df['headline_cleaned'] =  train_data_stances_df['headline_cleaned'].apply(lambda x: lemmatize_tokens(x))\n",
    "\n",
    "test_data_articles_df['article_cleaned'] =  test_data_articles_df['article_cleaned'].apply(lambda x: lemmatize_tokens(x))\n",
    "test_data_stances_df['headline_cleaned'] =  test_data_stances_df['headline_cleaned'].apply(lambda x: lemmatize_tokens(x))\n",
    "\n",
    "print(train_data_stances_df['headline_cleaned'][24])\n"
   ]
  },
  {
   "cell_type": "code",
   "execution_count": 10,
   "id": "c828b2d9",
   "metadata": {
    "scrolled": true
   },
   "outputs": [
    {
     "name": "stdout",
     "output_type": "stream",
     "text": [
      "ISIS Video: America’s Air Dropped Weapons Now in Our Hands\n",
      "['isi', 'video', 'america', 'air', 'dropped', 'weapon', 'hand']\n"
     ]
    }
   ],
   "source": [
    "print(train_data_stances_df['Headline'][154])\n",
    "print(train_data_stances_df['headline_cleaned'][154])"
   ]
  },
  {
   "cell_type": "code",
   "execution_count": 11,
   "id": "c1b80325",
   "metadata": {},
   "outputs": [],
   "source": [
    "if not os.path.exists('processed'):\n",
    "    os.mkdir('processed')\n",
    "\n",
    "train_data_articles_df.to_csv(\"processed/processed_train_articles.csv\")\n",
    "train_data_stances_df.to_csv(\"processed/processed_train_stances.csv\")"
   ]
  },
  {
   "cell_type": "markdown",
   "id": "02f7976c",
   "metadata": {},
   "source": [
    "\n",
    " ### Strategy: calculate tf score for headline and article separately, concatenate those two together (final feature count = 2x size of vocabulary) + tfidf cosine similarity \n",
    "\n",
    "this means have to save the vocab so that we can vectorize the GUI input w.r.t this vocab. Or not the gui prediction won't work due to difference in number of features\n"
   ]
  },
  {
   "cell_type": "code",
   "execution_count": 12,
   "id": "35ae73d6",
   "metadata": {},
   "outputs": [],
   "source": [
    "# generate vocabulary of articles + headlines\n",
    "vocab_total = Counter()\n",
    "\n",
    "for line in train_data_articles_df['article_cleaned'].values:\n",
    "    vocab_total.update(line)\n",
    "for line in train_data_stances_df['headline_cleaned'].values:\n",
    "    vocab_total.update(line)\n",
    "\n",
    "num_features = 5000\n",
    "vocab_counts = vocab_total.most_common(num_features)\n",
    "vocab = []\n",
    "for word, _ in vocab_counts:\n",
    "    vocab.append(word)\n"
   ]
  },
  {
   "cell_type": "code",
   "execution_count": 13,
   "id": "8be437a1",
   "metadata": {},
   "outputs": [
    {
     "name": "stdout",
     "output_type": "stream",
     "text": [
      "[ 0  4  5  6  7  8  9 10 11 13]\n",
      "[2102 1120 2414   75  298  720 1340  931 2448 2032]\n"
     ]
    }
   ],
   "source": [
    "stance_to_number = {\n",
    "    \"agree\": 0,\n",
    "    \"disagree\": 1,\n",
    "    \"discuss\": 2,\n",
    "    \"unrelated\": 3\n",
    "}\n",
    "\n",
    "\n",
    "def match_id(articles_df, headlines_df, body_ids):\n",
    "    # instead of concatenating article and headline, just output 2 lists. \n",
    "    # since they are added at the same time the indexes are the same i.e. body id matches\n",
    "    features_articles = []\n",
    "    features_headlines = []\n",
    "    labels = []\n",
    "    \n",
    "    for body_id in body_ids:\n",
    "        article = articles_df[articles_df['Body ID'] == body_id]['article_cleaned'].values[0]\n",
    "    #     print(article)\n",
    "        headlines = headlines_df[headlines_df['Body ID'] == body_id]['headline_cleaned'].values\n",
    "    #     print(headlines)\n",
    "        stances = headlines_df[headlines_df['Body ID'] == body_id]['Stance'].values\n",
    "    #     print(stances)\n",
    "        for headline, stance in zip(headlines, stances):\n",
    "            features_articles.append(article)\n",
    "            features_headlines.append(headline)\n",
    "            labels.append(stance_to_number[stance])\n",
    "    return features_articles, features_headlines, labels\n",
    "\n",
    "body_ids = train_data_articles_df['Body ID'].copy().values\n",
    "print(body_ids[0:10])\n",
    "np.random.seed(42) # set your seed\n",
    "np.random.shuffle(body_ids) # randomise it here and then do the train/val split later directly. If randomised later then validation and training set each will draw from their own datasets\n",
    "print(body_ids[0:10])\n",
    "features_articles, features_headlines, labels = match_id(train_data_articles_df, train_data_stances_df, body_ids) # article, headline and stances are retrieved at the same time so splitting later is fine\n",
    "\n",
    "# TODO: split train/val evenly between each type of stance?\n",
    "\n",
    "test_body_ids = test_data_articles_df['Body ID'].copy().values\n",
    "# don't randomise test set\n",
    "test_features_articles, test_features_headlines, test_labels = match_id(test_data_articles_df, test_data_stances_df, test_body_ids)"
   ]
  },
  {
   "cell_type": "code",
   "execution_count": 14,
   "id": "7763744f",
   "metadata": {},
   "outputs": [
    {
     "name": "stdout",
     "output_type": "stream",
     "text": [
      "['uk', 'confirmed', 'video', 'showing', 'beheading', 'aid', 'worker', 'david', 'haines']\n",
      "['unconfirmed', 'report', 'saying', 'isi', 'uk', 'hostage', 'david', 'haines', 'beheaded']\n",
      "2\n"
     ]
    }
   ],
   "source": [
    "print(features_articles[0])\n",
    "print(features_headlines[0])\n",
    "print(labels[0])"
   ]
  },
  {
   "cell_type": "code",
   "execution_count": 15,
   "id": "f65430d7",
   "metadata": {},
   "outputs": [
    {
     "name": "stdout",
     "output_type": "stream",
     "text": [
      "(49972, 5000)\n",
      "(49972, 5000)\n"
     ]
    }
   ],
   "source": [
    "# dummy preprocessor and tokenizer because already did that above. not going to change it up to fit this format\n",
    "\n",
    "def dummy(doc):\n",
    "    return doc\n",
    "vectorizer = CountVectorizer(preprocessor=dummy, tokenizer=dummy, vocabulary=vocab) # try messing with min_df param: can remove twitter handles and such\n",
    "features_articles_counts = vectorizer.fit_transform(features_articles)\n",
    "features_headlines_counts = vectorizer.fit_transform(features_headlines)\n",
    "\n",
    "test_features_articles_counts = vectorizer.fit_transform(test_features_articles)\n",
    "test_features_headlines_counts = vectorizer.fit_transform(test_features_headlines)\n",
    "\n",
    "print(features_articles_counts.shape)\n",
    "print(features_headlines_counts.shape)"
   ]
  },
  {
   "cell_type": "code",
   "execution_count": 16,
   "id": "804149ff",
   "metadata": {},
   "outputs": [
    {
     "name": "stdout",
     "output_type": "stream",
     "text": [
      "['isi' 'u' 'report' 'said' 'say' 'video' 'apple' 'state' 'claim' 'foley'\n",
      " 'man' 'islamic' 'journalist' 'james' 'watch' 'michael' 'american' 'new'\n",
      " 'kim' 'haram' 'boko' 'brown' 'militant' 'ebola' 'leader' 'audio' 'year'\n",
      " 'jong' 'shot' 'fighter' 'killed' 'reportedly' 'shooting' 'missing'\n",
      " 'official' 'girl' 'un' 'woman' 'job' 'steve' 'al' 'one' 'time' 'news'\n",
      " 'kidnapped' 'dead' 'north' 'medium' 'syria' 'could']\n",
      "(array([], dtype=int64),)\n"
     ]
    }
   ],
   "source": [
    "print(vectorizer.get_feature_names_out()[0:50])\n",
    "print(np.where(vectorizer.get_feature_names_out() == \"relatedhalloween\"))"
   ]
  },
  {
   "cell_type": "code",
   "execution_count": null,
   "id": "6334fa9d",
   "metadata": {},
   "outputs": [],
   "source": []
  },
  {
   "cell_type": "code",
   "execution_count": 17,
   "id": "5634b676",
   "metadata": {},
   "outputs": [
    {
     "name": "stdout",
     "output_type": "stream",
     "text": [
      "<class 'numpy.ndarray'>\n"
     ]
    }
   ],
   "source": [
    "# calculating tf and tfidf. \n",
    "tf_transformer = TfidfTransformer(use_idf=False)\n",
    "tfidf_transformer = TfidfTransformer(use_idf=True)\n",
    "\n",
    "features_articles_tf = tf_transformer.fit_transform(features_articles_counts)\n",
    "features_headlines_tf = tf_transformer.fit_transform(features_headlines_counts)\n",
    "features_articles_tfidf = tfidf_transformer.fit_transform(features_articles_counts)\n",
    "features_headlines_tfidf = tfidf_transformer.fit_transform(features_headlines_counts)\n",
    "\n",
    "test_features_articles_tf = tf_transformer.fit_transform(test_features_articles_counts)\n",
    "test_features_headlines_tf = tf_transformer.fit_transform(test_features_headlines_counts)\n",
    "test_features_articles_tfidf = tfidf_transformer.fit_transform(test_features_articles_counts)\n",
    "test_features_headlines_tfidf = tfidf_transformer.fit_transform(test_features_headlines_counts)\n",
    "\n",
    "print(type(features_articles_tfidf[0].toarray()))"
   ]
  },
  {
   "cell_type": "code",
   "execution_count": 34,
   "id": "1d5a5280",
   "metadata": {},
   "outputs": [
    {
     "name": "stdout",
     "output_type": "stream",
     "text": [
      "(1, 10001)\n"
     ]
    }
   ],
   "source": [
    "# concatenate as headline tf + tfidf cosine similarity + article tf\n",
    "\n",
    "def generate_feature_vector(articles_tf, headlines_tf, articles_tfidf, headlines_tfidf):\n",
    "    output = []\n",
    "    for article_tf, headline_tf, article_tfidf, headline_tfidf in zip(articles_tf, headlines_tf, articles_tfidf, headlines_tfidf):\n",
    "        article_tf = article_tf.toarray()\n",
    "        headline_tf = headline_tf.toarray()\n",
    "        article_tfidf = article_tfidf.toarray()\n",
    "        headline_tfidf = headline_tfidf.toarray()\n",
    "        \n",
    "        cosine = cosine_similarity(article_tfidf, headline_tfidf)\n",
    "        output.append(np.concatenate([headline_tf, cosine, article_tf], axis=1))\n",
    "        \n",
    "    return output\n",
    "\n",
    "\n",
    "            \n",
    "features = generate_feature_vector(features_articles_tf, features_headlines_tf, features_articles_tfidf, features_headlines_tfidf)\n",
    "test_features = generate_feature_vector(test_features_articles_tf, test_features_headlines_tf, test_features_articles_tfidf, test_features_headlines_tfidf)\n",
    "\n",
    "print(features[0].shape)\n",
    "\n"
   ]
  },
  {
   "cell_type": "code",
   "execution_count": 35,
   "id": "b8190dbd",
   "metadata": {},
   "outputs": [],
   "source": [
    "# NOW do the train val split. \n",
    "# Vectorise and get bag of words for both train + val first so that the features are the same length\n",
    "# can also instead generate a dictionary beforehand to pass into the vectorizer\n",
    "\n",
    "train_percentage = 0.8\n",
    "num_samples = len(features)\n",
    "split_index = int(train_percentage*num_samples)\n",
    "train_features = features[:split_index]\n",
    "val_features = features[split_index:]\n",
    "train_labels = labels[:split_index]\n",
    "val_labels = labels[split_index:]"
   ]
  },
  {
   "cell_type": "code",
   "execution_count": 36,
   "id": "cf786c82",
   "metadata": {},
   "outputs": [],
   "source": [
    "# saving the vectors\n",
    "# train_features_tfidf_nparray = train_features_tfidf.toarray()\n",
    "# test_features_tfidf_nparray = test_features_tfidf.toarray()\n",
    "\n",
    "# np.savetxt(\"processed/vector_train_features_tdidf.txt\", train_features_tfidf_nparray)\n",
    "# np.savetxt(\"processed/vector_test_features_tdidf.txt\", test_features_tfidf_nparray)\n",
    "# >22GB\n",
    "\n",
    "# the file size is so big for the vectorized array \n",
    "# i think it's better to save the data as just list of sentences and load them, \n",
    "# then do the vectorization\n"
   ]
  },
  {
   "cell_type": "code",
   "execution_count": 37,
   "id": "5c40926c",
   "metadata": {},
   "outputs": [],
   "source": [
    "class MultiLayerPerceptron(nn.Module):\n",
    "    def __init__(self, in_dim, out_dim):\n",
    "        super().__init__()\n",
    "        self.fc1 = nn.Linear(in_features=in_dim, out_features=2500) # TODO: mess with the hidden layer sizes\n",
    "        self.fc2 = nn.Linear(in_features=2500, out_features=1000)\n",
    "        self.fc3 = nn.Linear(in_features=1000, out_features=100)\n",
    "        self.fc4 = nn.Linear(in_features=100, out_features=out_dim)\n",
    "        \n",
    "    \n",
    "    def forward(self, x):\n",
    "        x = self.fc1(x)\n",
    "        x = nn.functional.relu(x)\n",
    "        \n",
    "        x = self.fc2(x)\n",
    "        x = nn.functional.relu(x)\n",
    "        \n",
    "        x = self.fc3(x)\n",
    "        x = nn.functional.relu(x)\n",
    "        \n",
    "        x = self.fc4(x)\n",
    "        \n",
    "        return x\n",
    "    "
   ]
  },
  {
   "cell_type": "code",
   "execution_count": 38,
   "id": "c6941800",
   "metadata": {},
   "outputs": [],
   "source": [
    "input_dimensions = 2*num_features + 1\n",
    "out_dimensions = 4\n",
    "\n",
    "model = MultiLayerPerceptron(input_dimensions, out_dimensions)"
   ]
  },
  {
   "cell_type": "code",
   "execution_count": 39,
   "id": "58fa15eb",
   "metadata": {},
   "outputs": [],
   "source": [
    "learning_rate = 1e-3\n",
    "optimizer = optim.Adam(model.parameters(), learning_rate)\n",
    "criterion = nn.CrossEntropyLoss()"
   ]
  },
  {
   "cell_type": "code",
   "execution_count": 40,
   "id": "c0779b1a",
   "metadata": {},
   "outputs": [
    {
     "name": "stdout",
     "output_type": "stream",
     "text": [
      "cuda\n"
     ]
    }
   ],
   "source": [
    "device = torch.device('cuda' if torch.cuda.is_available() else 'cpu')\n",
    "print(device)\n",
    "\n",
    "model = model.to(device)\n",
    "criterion = criterion.to(device)"
   ]
  },
  {
   "cell_type": "code",
   "execution_count": 41,
   "id": "c73930a8",
   "metadata": {},
   "outputs": [
    {
     "name": "stdout",
     "output_type": "stream",
     "text": [
      "1250\n"
     ]
    }
   ],
   "source": [
    "# for batches \n",
    "batch_size = 32\n",
    "\n",
    "# train_features_tfidf_array = train_features_tfidf.toarray()\n",
    "# val_features_tfidf_array = val_features_tfidf.toarray()\n",
    "# test_features_tfidf_array = test_features_tfidf.toarray()\n",
    "\n",
    "\n",
    "train_iterator = data.DataLoader([[train_features[i], train_labels[i]] for i in range(len(train_labels))],\n",
    "                                 shuffle=True,\n",
    "                                 batch_size=batch_size,\n",
    "                                 num_workers=2)\n",
    "\n",
    "val_iterator = data.DataLoader([[val_features[i], val_labels[i]] for i in range(len(val_labels))],\n",
    "                                 shuffle=True,\n",
    "                                 batch_size=batch_size,\n",
    "                                 num_workers=2)\n",
    "test_iterator = data.DataLoader([[test_features[i], test_labels[i]] for i in range(len(test_labels))],\n",
    "                                 shuffle=False,\n",
    "                                 batch_size=batch_size,\n",
    "                                 num_workers=2)\n",
    "\n",
    "train_iterator_size = len(train_iterator)\n",
    "val_iterator_size = len(val_iterator)\n",
    "print(train_iterator_size)"
   ]
  },
  {
   "cell_type": "code",
   "execution_count": 42,
   "id": "57c89d68",
   "metadata": {},
   "outputs": [],
   "source": [
    "def calculate_accuracy(y, label):\n",
    "    top_pred = y.argmax(1, keepdim=True)\n",
    "    correct = top_pred.eq(label.view_as(top_pred)).sum()\n",
    "    acc = correct.float() / label.shape[0]\n",
    "    return acc"
   ]
  },
  {
   "cell_type": "code",
   "execution_count": 47,
   "id": "d9433456",
   "metadata": {},
   "outputs": [
    {
     "name": "stderr",
     "output_type": "stream",
     "text": [
      "                                                                                                                       \r"
     ]
    },
    {
     "name": "stdout",
     "output_type": "stream",
     "text": [
      "epoch 1:\n",
      "train loss = 0.073; train acc = 97.331%\n",
      "val loss = 0.262; val acc = 92.222%\n"
     ]
    },
    {
     "name": "stderr",
     "output_type": "stream",
     "text": [
      "                                                                                                                       \r"
     ]
    },
    {
     "name": "stdout",
     "output_type": "stream",
     "text": [
      "epoch 2:\n",
      "train loss = 0.040; train acc = 98.525%\n",
      "val loss = 0.345; val acc = 92.154%\n"
     ]
    },
    {
     "name": "stderr",
     "output_type": "stream",
     "text": [
      "                                                                                                                       \r"
     ]
    },
    {
     "name": "stdout",
     "output_type": "stream",
     "text": [
      "epoch 3:\n",
      "train loss = 0.027; train acc = 99.090%\n",
      "val loss = 0.302; val acc = 92.732%\n"
     ]
    },
    {
     "name": "stderr",
     "output_type": "stream",
     "text": [
      "                                                                                                                       \r"
     ]
    },
    {
     "name": "stdout",
     "output_type": "stream",
     "text": [
      "epoch 4:\n",
      "train loss = 0.019; train acc = 99.352%\n",
      "val loss = 0.347; val acc = 92.682%\n"
     ]
    },
    {
     "name": "stderr",
     "output_type": "stream",
     "text": [
      "                                                                                                                       "
     ]
    },
    {
     "name": "stdout",
     "output_type": "stream",
     "text": [
      "epoch 5:\n",
      "train loss = 0.014; train acc = 99.513%\n",
      "val loss = 0.360; val acc = 92.882%\n"
     ]
    },
    {
     "name": "stderr",
     "output_type": "stream",
     "text": [
      "\r"
     ]
    }
   ],
   "source": [
    "epochs = 5\n",
    "overall_train_loss = []\n",
    "overall_val_loss = []\n",
    "overall_train_acc = []\n",
    "overall_val_acc = []\n",
    "\n",
    "for epoch in range(epochs):\n",
    "    train_loss = 0\n",
    "    train_acc = 0\n",
    "    for x, label in tqdm(train_iterator, desc=f\"Epoch {epoch+1} training\", leave=False):        \n",
    "        x = x.to(device)\n",
    "        label = label.to(device)\n",
    "        \n",
    "        x = x.float() \n",
    "        label = label.long()\n",
    "        \n",
    "        optimizer.zero_grad()\n",
    "        y = model(x)\n",
    "        y = y.view(-1,4)\n",
    "        \n",
    "        loss = criterion(y, label)\n",
    "        acc = calculate_accuracy(y, label)\n",
    "        \n",
    "        loss.backward()\n",
    "        optimizer.step()\n",
    "        \n",
    "        train_loss += loss.item()\n",
    "        train_acc += acc.item()\n",
    "        \n",
    "    train_loss /= train_iterator_size\n",
    "    train_acc /= train_iterator_size\n",
    "    \n",
    "    overall_train_loss.append(train_loss)\n",
    "    overall_train_acc.append(train_acc)\n",
    "    \n",
    "    val_loss = 0\n",
    "    val_acc = 0\n",
    "    with torch.no_grad():\n",
    "        for x, label in tqdm(val_iterator, desc=f\"Epoch {epoch+1} validating\", leave=False):\n",
    "            x = x.to(device)\n",
    "            label = label.to(device)\n",
    "            \n",
    "            x = x.float() \n",
    "            label = label.long()\n",
    "\n",
    "            y = model(x)\n",
    "            y = y.view(-1,4)\n",
    "            \n",
    "            loss = criterion(y, label)\n",
    "            acc = calculate_accuracy(y, label)\n",
    "\n",
    "            val_loss += loss.item()\n",
    "            val_acc += acc.item()\n",
    "            \n",
    "    val_loss /= val_iterator_size\n",
    "    val_acc /= val_iterator_size\n",
    "    \n",
    "    overall_val_loss.append(val_loss)\n",
    "    overall_val_acc.append(val_acc)\n",
    "    \n",
    "    print(f\"epoch {epoch+1}:\")\n",
    "    print(f\"train loss = {train_loss:.3f}; train acc = {train_acc*100:.3f}%\")\n",
    "    print(f\"val loss = {val_loss:.3f}; val acc = {val_acc*100:.3f}%\")"
   ]
  },
  {
   "cell_type": "code",
   "execution_count": 48,
   "id": "21fc72bc",
   "metadata": {},
   "outputs": [],
   "source": [
    "def plot_loss_acc (train_loss, val_loss, train_acc, val_acc):\n",
    "  fig, ax = plt.subplots(1,2)\n",
    "  \n",
    "  ax[0].set_title(\"Loss\")\n",
    "  ax[0].plot(train_loss, label=\"Training\")\n",
    "  ax[0].plot(val_loss, label=\"Validation\")\n",
    "  ax[0].legend()\n",
    "\n",
    "\n",
    "  \n",
    "  ax[1].set_title(\"Accuracy\")\n",
    "  ax[1].plot(train_acc, label=\"Training\")\n",
    "  ax[1].plot(val_acc, label=\"Validation\")\n",
    "  ax[1].legend()\n",
    "\n",
    "\n",
    "\n",
    "  return"
   ]
  },
  {
   "cell_type": "code",
   "execution_count": 49,
   "id": "22ead512",
   "metadata": {},
   "outputs": [
    {
     "data": {
      "image/png": "[encoded data removed]",
      "text/plain": [
       "<Figure size 432x288 with 2 Axes>"
      ]
     },
     "metadata": {
      "needs_background": "light"
     },
     "output_type": "display_data"
    }
   ],
   "source": [
    "plot_loss_acc(overall_train_loss, overall_val_loss, overall_train_acc, overall_val_acc)"
   ]
  },
  {
   "cell_type": "code",
   "execution_count": 50,
   "id": "8e6fc661",
   "metadata": {},
   "outputs": [
    {
     "name": "stderr",
     "output_type": "stream",
     "text": [
      "                                                                                                                       \r"
     ]
    }
   ],
   "source": [
    "test_labels_predicted = []\n",
    "with torch.no_grad():\n",
    "    for x, label in tqdm(test_iterator, desc=f\"testing\", leave=False):\n",
    "        x = x.to(device)\n",
    "        label = label.to(device)\n",
    "\n",
    "        x = x.float() \n",
    "        label = label.long()\n",
    "\n",
    "        y = model(x)\n",
    "        \n",
    "        test_labels_predicted.append(y)\n",
    "\n"
   ]
  },
  {
   "cell_type": "code",
   "execution_count": 51,
   "id": "ea0116dd",
   "metadata": {},
   "outputs": [],
   "source": [
    "number_to_stance = {\n",
    "    0: \"agree\",\n",
    "    1: \"disagree\",\n",
    "    2: \"discuss\",\n",
    "    3: \"unrelated\"\n",
    "}\n",
    "test_stances = []\n",
    "\n",
    "for label in test_labels:\n",
    "    test_stances.append(number_to_stance[int(label)])\n"
   ]
  },
  {
   "cell_type": "code",
   "execution_count": 59,
   "id": "f292adf7",
   "metadata": {},
   "outputs": [
    {
     "name": "stdout",
     "output_type": "stream",
     "text": [
      "torch.Size([32, 1, 4])\n"
     ]
    }
   ],
   "source": [
    "test_stances_pred = []\n",
    "print(test_labels_predicted[0].shape)\n",
    "for i in test_labels_predicted:\n",
    "    for j in i:\n",
    "        top_pred = j[0].argmax(0, keepdim=True)\n",
    "        test_stances_pred.append(number_to_stance[top_pred.item()])\n",
    "        "
   ]
  },
  {
   "cell_type": "code",
   "execution_count": 60,
   "id": "4e947314",
   "metadata": {},
   "outputs": [
    {
     "name": "stdout",
     "output_type": "stream",
     "text": [
      "True\n"
     ]
    }
   ],
   "source": [
    "print(len(test_stances_pred) == len(test_stances))"
   ]
  },
  {
   "cell_type": "code",
   "execution_count": 61,
   "id": "16be602d",
   "metadata": {},
   "outputs": [
    {
     "name": "stdout",
     "output_type": "stream",
     "text": [
      "-------------------------------------------------------------\n",
      "|           |   agree   | disagree  |  discuss  | unrelated |\n",
      "-------------------------------------------------------------\n",
      "|   agree   |    934    |    24     |    844    |    101    |\n",
      "-------------------------------------------------------------\n",
      "| disagree  |    263    |    28     |    325    |    81     |\n",
      "-------------------------------------------------------------\n",
      "|  discuss  |    728    |    40     |   3444    |    252    |\n",
      "-------------------------------------------------------------\n",
      "| unrelated |    783    |    150    |   1849    |   15567   |\n",
      "-------------------------------------------------------------\n",
      "Score: 8853.75 out of 11651.25\t(75.98970067589315%)\n"
     ]
    },
    {
     "data": {
      "text/plain": [
       "75.98970067589315"
      ]
     },
     "execution_count": 61,
     "metadata": {},
     "output_type": "execute_result"
    }
   ],
   "source": [
    "score.report_score(test_stances, test_stances_pred)"
   ]
  },
  {
   "cell_type": "code",
   "execution_count": 62,
   "id": "674d12fb",
   "metadata": {},
   "outputs": [],
   "source": [
    "torch.save(model.state_dict(), 'mlp-model.pt')"
   ]
  },
  {
   "cell_type": "code",
   "execution_count": null,
   "id": "7b8eef98",
   "metadata": {},
   "outputs": [],
   "source": []
  }
 ],
 "metadata": {
  "kernelspec": {
   "display_name": "gpu-1",
   "language": "python",
   "name": "gpu-1"
  },
  "language_info": {
   "codemirror_mode": {
    "name": "ipython",
    "version": 3
   },
   "file_extension": ".py",
   "mimetype": "text/x-python",
   "name": "python",
   "nbconvert_exporter": "python",
   "pygments_lexer": "ipython3",
   "version": "3.9.12"
  }
 },
 "nbformat": 4,
 "nbformat_minor": 5
}
